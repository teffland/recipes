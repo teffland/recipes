{
 "cells": [
  {
   "cell_type": "code",
   "execution_count": 188,
   "metadata": {
    "collapsed": true
   },
   "outputs": [],
   "source": [
    "import requests\n",
    "from bs4 import BeautifulSoup as bs\n",
    "import json"
   ]
  },
  {
   "cell_type": "code",
   "execution_count": 183,
   "metadata": {
    "collapsed": false
   },
   "outputs": [],
   "source": [
    "def recipe_link_to_dict(link):\n",
    "    \"\"\" Take in the link to a NYTimes Cooking recipe \n",
    "        and extract all of the necessary info in dict form\n",
    "        This includes:\n",
    "         * name\n",
    "         * description\n",
    "         * prep time\n",
    "         * yield\n",
    "         * a url for the photo\n",
    "         * all of the tags (formerly categories)\n",
    "         * all of the ingredients, broken down into name, quantity, unit, and comment\n",
    "         * all of the steps: number and instruction text\n",
    "         NOTE: We do not pull user comments and names because it doesn't come with the original html, it\n",
    "         s jscript loaded when the user clicks 'show comments'\n",
    "    \"\"\"\n",
    "    soup = bs(requests.get(link).content, 'html.parser')\n",
    "    recipe = {}\n",
    "    recipe['name'] = soup.find('h1', class_='recipe-title').text\n",
    "    recipe['description'] = soup.find('div', class_='topnote').p.text\n",
    "    recipe['preparation_time'] = soup.find('ul', class_=\"recipe-time-yield\").li.text.replace('Time','').strip()\n",
    "    recipe['yield'] = soup.find('span', itemprop=\"recipeYield\").text.strip()\n",
    "    recipe['photo_url'] = soup.find('img', itemprop='image')['src']\n",
    "\n",
    "    # get all the tags that work\n",
    "    recipe['tags'] = []\n",
    "    for a in soup.find('p', class_=\"special-diets tag-block\").contents:\n",
    "        try:\n",
    "            recipe['tags'].append({'name': a.text})\n",
    "        except:\n",
    "            pass\n",
    "        \n",
    "    # get ingredient info\n",
    "    recipe['ingredients'] = []\n",
    "    for li in soup.find_all('li', itemprop=\"recipeIngredient\"):\n",
    "        ingredient = {'quantity': li.find('span', class_='quantity').text}\n",
    "        name = li.find('span', itemprop='name').text\n",
    "        ingredient['name'] = name\n",
    "        # unit is section of phrase BEFORE name, comment is section AFTER\n",
    "        split = li.find('span', class_='ingredient-name').text.split(name,1) #maxsplit=1\n",
    "        ingredient['unit'] = split[0]\n",
    "        ingredient['comment'] = split[1]\n",
    "        recipe['ingredients'].append(ingredient)\n",
    "        \n",
    "    # get the step info\n",
    "    recipe['steps'] = []\n",
    "    for i, li in enumerate(soup.find('ol', itemprop='recipeInstructions').contents):\n",
    "        try:\n",
    "            recipe['steps'].append({'number':i, 'instructions':li.text})\n",
    "        except: # some elements aren't li and break on .text\n",
    "            pass\n",
    "    \n",
    "    return recipe"
   ]
  },
  {
   "cell_type": "code",
   "execution_count": 184,
   "metadata": {
    "collapsed": true
   },
   "outputs": [],
   "source": [
    "def write_json(data, fname='recipe_data.json'):\n",
    "    with open(fname, 'w') as fp:\n",
    "        json.dump(data, fp)\n",
    "    "
   ]
  },
  {
   "cell_type": "code",
   "execution_count": null,
   "metadata": {
    "collapsed": false,
    "scrolled": false
   },
   "outputs": [],
   "source": [
    "root = 'http://cooking.nytimes.com'\n",
    "num_searches = 10\n",
    "search_links = [ root+'/search?q=&page='+str(n+1) for n in range(num_searches)]\n",
    "\n",
    "print \"Getting recipe links\"\n",
    "recipe_links = []\n",
    "for i, link in enumerate(search_links):\n",
    "    soup = bs(requests.get(link).content, 'html.parser')\n",
    "    new_recipe_links = [root+link['href'] for link in soup.find_all('a', class_=\"card-recipe-info\")]\n",
    "    recipe_links += new_recipe_links\n",
    "print 'Number of recipes links grabbed: %i' % len(recipe_links)\n",
    "\n",
    "# load each recipe link and convert it to a dict\n",
    "recipes = []\n",
    "for i, link in enumerate(recipe_links):\n",
    "    print \"Downloading recipe #%i\" % (i+1)\n",
    "    # it would appear a lot of these pages aren't as well-formed as I thought\n",
    "    # or (more likely) my code is buggy, but there's plenty of ones that work\n",
    "    # so just skip them gracefully\n",
    "    try:\n",
    "        recipes.append(recipe_link_to_dict(link))\n",
    "    except (NameError, TypeError, ValueError, AttributeError) as e:\n",
    "        print \"SKIPPED\", e\n",
    "    \n",
    "print \"Finished, %i total recipes successfully downloaded. Now writing out to file\" % len(recipes)\n",
    "write_json(recipes)\n",
    "print \"All Done!\""
   ]
  },
  {
   "cell_type": "code",
   "execution_count": 18,
   "metadata": {
    "collapsed": false
   },
   "outputs": [],
   "source": [
    "import json\n",
    "from datetime import datetime\n",
    "from hashlib import sha256\n",
    "def format_date(date):\n",
    "    TIMESTAMP_FORMAT = '%Y-%m-%d %H:%M:%S'\n",
    "    return datetime.strftime(date, TIMESTAMP_FORMAT)"
   ]
  },
  {
   "cell_type": "code",
   "execution_count": 7,
   "metadata": {
    "collapsed": false
   },
   "outputs": [],
   "source": [
    "with open('recipe_data.json' ,'r') as f:\n",
    "    data = json.loads(f.read())\n",
    "        "
   ]
  },
  {
   "cell_type": "code",
   "execution_count": null,
   "metadata": {
    "collapsed": true
   },
   "outputs": [],
   "source": [
    "import urllib\n",
    "def download_photo(url):\n",
    "    photo_hash = sha256(url).hexdigest()\n",
    "    localname = photohash+\".jpg\"\n",
    "    urllib.urlretrieve(url, localname)\n",
    "    return localname"
   ]
  },
  {
   "cell_type": "code",
   "execution_count": 43,
   "metadata": {
    "collapsed": false
   },
   "outputs": [
    {
     "name": "stdout",
     "output_type": "stream",
     "text": [
      "[u'description', u'ingredients', u'preparation_time', u'tags', u'yield', u'steps', u'photo_url', u'name']\n",
      "10 minutes\n"
     ]
    }
   ],
   "source": [
    "print data[0].keys()\n",
    "print data[0]['preparation_time']"
   ]
  },
  {
   "cell_type": "code",
   "execution_count": 11,
   "metadata": {
    "collapsed": true
   },
   "outputs": [],
   "source": [
    "import sqlite3\n",
    "def db_connect():\n",
    "    return sqlite3.connect('test.db')"
   ]
  },
  {
   "cell_type": "code",
   "execution_count": 12,
   "metadata": {
    "collapsed": true
   },
   "outputs": [],
   "source": [
    "conn = db_connect()"
   ]
  },
  {
   "cell_type": "code",
   "execution_count": 20,
   "metadata": {
    "collapsed": false
   },
   "outputs": [
    {
     "name": "stdout",
     "output_type": "stream",
     "text": [
      "64\n"
     ]
    }
   ],
   "source": [
    "# create the main user\n",
    "email = \"chef@goodfood.com\"\n",
    "first_name= \"Anthony\"\n",
    "last_name= \"Bourdain\"\n",
    "hashed_password=sha256(\"ILoveCooking\").hexdigest()\n",
    "icon_code=1\n",
    "created_at = format_date(datetime.now())\n",
    "last_login_at = format_date(datetime.now())\n",
    "user = (email, first_name, last_name, hashed_password, icon_code, created_at, last_login_at)"
   ]
  },
  {
   "cell_type": "code",
   "execution_count": null,
   "metadata": {
    "collapsed": true
   },
   "outputs": [],
   "source": [
    "conn.execute(\"\"\"INSERT INTO users (email, first_name, last_name, hashed_password, icon_code, created_at, last_login_at)\n",
    "                VALUES email=%s, first_name=%s, last_name=%s, hashed_password=%s, icon_code=%i, \n",
    "                created_at=%s, last_login_at=%s\"\"\", user)"
   ]
  },
  {
   "cell_type": "code",
   "execution_count": 29,
   "metadata": {
    "collapsed": false
   },
   "outputs": [
    {
     "data": {
      "text/plain": [
       "'pyformat'"
      ]
     },
     "execution_count": 29,
     "metadata": {},
     "output_type": "execute_result"
    }
   ],
   "source": [
    "import psycopg2\n",
    "psycopg2.paramstyle"
   ]
  },
  {
   "cell_type": "code",
   "execution_count": 36,
   "metadata": {
    "collapsed": false
   },
   "outputs": [
    {
     "name": "stdout",
     "output_type": "stream",
     "text": [
      "[{'name': u'iodized salt'}, {'name': u'rosemary leaves'}, {'name': u'duck breasts'}, {'name': u'Worcestershire sauce'}, {'name': u'za\\u2019atar'}, {'name': u'Sugar'}, {'name': u'plain kefir'}, {'name': u'Bouquet garni'}, {'name': u'porcini'}, {'name': u'sriracha sauce'}, {'name': u'milk'}, {'name': u'vanilla bean'}, {'name': u'blueberries'}, {'name': u'Thai basil leaves'}, {'name': u'pineapple juice'}, {'name': u'sesame paste'}, {'name': u'bunch scallions'}, {'name': u'dark brown sugar'}, {'name': u'pork shoulder'}, {'name': u'chopped fresh dill'}, {'name': u'cayenne pepper'}, {'name': u'Mint leaf'}, {'name': u'Boiling water'}, {'name': u'unsweetened coconut'}, {'name': u'couscous'}, {'name': u'heavy cream'}, {'name': u'white bread'}, {'name': u'Primitivo Quiles Vermouth Rojo'}, {'name': u'blanched almonds'}, {'name': u'caraway seeds'}, {'name': u'turnips'}, {'name': u'vanilla extract'}, {'name': u'wasabi paste'}, {'name': u'navel oranges'}, {'name': u'Kaffir lime leaves'}, {'name': u'littleneck clams'}, {'name': u'ground mahlab'}, {'name': u'marinara sauce'}, {'name': u'finely chopped fresh herbs'}, {'name': u'ham hock'}, {'name': u'Jameson Irish whiskey'}, {'name': u'Salt'}, {'name': u'Hot sauce'}, {'name': u'Vidalia onion'}, {'name': u'chayote squash'}, {'name': u'tangerine juice'}, {'name': u'chili-garlic paste'}, {'name': u'unbleached all-purpose flour'}, {'name': u'asparagus'}, {'name': u'prosciutto'}, {'name': u'sweet potatoes'}, {'name': u'rhubarb syrup'}, {'name': u'saffron threads'}, {'name': u'oregano leaves'}, {'name': u'Confectioners\\u2019 sugar'}, {'name': u'Italian parsley leaves'}, {'name': u'rose water'}, {'name': u'bacon'}, {'name': u'millet'}, {'name': u'pork or veal'}, {'name': u'can chopped tomatoes'}, {'name': u'chopped cilantro'}, {'name': u'trout roe'}, {'name': u'Rice'}, {'name': u'baby artichokes'}, {'name': u'extra-virgin coconut oil'}, {'name': u'fresh mint'}, {'name': u'walnut oil'}, {'name': u'pomegranate molasses'}, {'name': u'brussels sprouts'}, {'name': u'whipping cream'}, {'name': u'tarragon'}, {'name': u'dried shiitake mushrooms'}, {'name': u'espresso'}, {'name': u'white wine'}, {'name': u'chickpeas'}, {'name': u'yellow cornmeal'}, {'name': u'Yukon Gold potatoes'}, {'name': u'mustard greens'}, {'name': u'Applesauce'}, {'name': u'cocoa powder'}, {'name': u'broken walnuts'}, {'name': u'flaky salt'}, {'name': u'mussels'}, {'name': u'Cooked pasta'}, {'name': u'water'}, {'name': u'raspberries'}, {'name': u'lobster meat'}, {'name': u'peanut oil'}, {'name': u'sardines'}, {'name': u'green bell pepper'}, {'name': u'Coarse salt'}, {'name': u'Lemon wedges'}, {'name': u'mozzarella'}, {'name': u'white rice flour'}, {'name': u'Dijon mustard'}, {'name': u'London broil'}, {'name': u'Turkish pepper'}, {'name': u'active dry yeast'}, {'name': u'cucumbers'}, {'name': u'rainbow trout'}, {'name': u'opal basil leaves'}, {'name': u'cinnamon'}, {'name': u'tomato paste'}, {'name': u'calamansi juice'}, {'name': u'sea salt'}, {'name': u'onion powder'}, {'name': u'Salt and freshly ground black pepper'}, {'name': u'vegetable oil'}, {'name': u'soybean paste'}, {'name': u'apple'}, {'name': u'mild or medium-hot chili powder'}, {'name': u'flat-leaf parsley leaves'}, {'name': u'vodka'}, {'name': u'balsamic vinegar'}, {'name': u'Basil'}, {'name': u'baby broccoli'}, {'name': u'barley rusks'}, {'name': u'lime'}, {'name': u'brandy'}, {'name': u'Gruyere cheese'}, {'name': u'Aveze'}, {'name': u'virgin olive oil'}, {'name': u'Korean red pepper flakes'}, {'name': u'sotol'}, {'name': u'chicken thighs'}, {'name': u'winter squash'}, {'name': u'blood oranges'}, {'name': u'seafood stock'}, {'name': u'Dolin dry vermouth'}, {'name': u'Secret Weapon Stir-Fry Sauce'}, {'name': u'Butter'}, {'name': u'Vegetable oil'}, {'name': u'butternut squash'}, {'name': u'pistachio oil'}, {'name': u'white rye flour'}, {'name': u'Italian parsley'}, {'name': u'scallions'}, {'name': u'beef knucklebones'}, {'name': u'Meyer lemons'}, {'name': u'lemons'}, {'name': u'garlic clove'}, {'name': u'egg white'}, {'name': u'Sour cream'}, {'name': u'yellow squash'}, {'name': u'garlic powder'}, {'name': u'cilantro stems'}, {'name': u'granulated sugar'}, {'name': u'five-spice powder'}, {'name': u'cr\\xe8me fra\\xeeche'}, {'name': u'green beans'}, {'name': u'cold sparkling water'}, {'name': u'Saturn peaches'}, {'name': u'kosher salt'}, {'name': u'white fish bones'}, {'name': u'baby potatoes'}, {'name': u'Freshly ground black pepper'}, {'name': u'doenjang'}, {'name': u'dried shrimp powder'}, {'name': u'Simple Tomato Sauce'}, {'name': u'fish sauce'}, {'name': u'honey'}, {'name': u'peperoncini'}, {'name': u'carrot'}, {'name': u'turbinado sugar'}, {'name': u'pie shell'}, {'name': u'sambal oelek'}, {'name': u'fleur de sel'}, {'name': u'onions'}, {'name': u'bittersweet chocolate'}, {'name': u'mixed black and white sesame seeds'}, {'name': u'harissa'}, {'name': u'Blue cheese or gorgonzola'}, {'name': u'white-wine vinegar'}, {'name': u'Cooked grains'}, {'name': u'parsley leaves'}, {'name': u'diced carrots'}, {'name': u'oyster sauce'}, {'name': u'hot green chiles'}, {'name': u'feta'}, {'name': u'green olives'}, {'name': u'serrano chiles'}, {'name': u'Persian cucumbers'}, {'name': u'guanciale'}, {'name': u'unsalted butter'}, {'name': u'lamb shoulder'}, {'name': u'Anson Mills Colonial Coarse Pencil Cob Grits'}, {'name': u'stick cinnamon'}, {'name': u'green cabbage'}, {'name': u'cardamom'}, {'name': u'faro'}, {'name': u'red peppers'}, {'name': u'black pepper'}, {'name': u'whole grain macaroni shells'}, {'name': u'cabbage'}, {'name': u'Sea salt'}, {'name': u'frozen peas'}, {'name': u'ruby-red grapefruit juice'}, {'name': u'beef short rib'}, {'name': u'tomato'}, {'name': u'almond extract'}, {'name': u'serrano'}, {'name': u'tonic water'}, {'name': u'mango'}, {'name': u'halibut'}, {'name': u'tahini'}, {'name': u'jalape\\xf1o'}, {'name': u'egg'}, {'name': u'cane vinegar'}, {'name': u'graham cracker'}, {'name': u'eggplants'}, {'name': u'orange bitters'}, {'name': u'light brown sugar'}, {'name': u'black quinoa'}, {'name': u'Schmaltz'}, {'name': u'baby salad greens'}, {'name': u'Salt and pepper'}, {'name': u'cooked kasha'}, {'name': u'Fuyu persimmons'}, {'name': u'soba noodles'}, {'name': u'grapefruit peel'}, {'name': u'Lime wedges'}, {'name': u'Parmesan rind'}, {'name': u'sea salt or kosher salt'}, {'name': u'apricots'}, {'name': u'plantains'}, {'name': u'rosemary sprigs'}, {'name': u'avocado'}, {'name': u'semolina flour'}, {'name': u'golden raisins'}, {'name': u'orange'}, {'name': u'peanuts'}, {'name': u'flageolets'}, {'name': u'fig leaves'}, {'name': u'ground Sichuan pepper'}, {'name': u'red bell pepper'}, {'name': u'pecans'}, {'name': u'blackberries'}, {'name': u'flour'}, {'name': u'instant yeast'}, {'name': u'fennel bulb'}, {'name': u'spelt'}, {'name': u'stout'}, {'name': u'freshly squeezed lime juice'}, {'name': u'ketchup'}, {'name': u'bread'}, {'name': u'coriander'}, {'name': u'Parmesan cheese'}, {'name': u'thyme'}, {'name': u'shell beans'}, {'name': u'potatoes'}, {'name': u'beef short ribs'}, {'name': u'orange blossom water'}, {'name': u'grapefruit'}, {'name': u'Parmesan'}, {'name': u'russet potatoes'}, {'name': u'Fleur de sel'}, {'name': u'rosemary'}, {'name': u'Sea salt or kosher salt'}, {'name': u'piment\\xf3n'}, {'name': u'Grapeseed'}, {'name': u'country bread'}, {'name': u'lime zest'}, {'name': u'Gribenes'}, {'name': u'baby bok choy'}, {'name': u'clove garlic'}, {'name': u'Kosher salt and black pepper'}, {'name': u'Fish sauce'}, {'name': u'fennel seed'}, {'name': u'pistachios'}, {'name': u'Cognac'}, {'name': u'chipotle chile'}, {'name': u'pitted cherries'}, {'name': u'red-wine vinegar'}, {'name': u'lemongrass'}, {'name': u'pinto beans'}, {'name': u'mild honey'}, {'name': u'sprigs cilantro'}, {'name': u'Salt and black pepper'}, {'name': u'chicken stock'}, {'name': u'ground black pepper'}, {'name': u'garam masala'}, {'name': u'horseradish'}, {'name': u'amaranth'}, {'name': u'Powdered sugar'}, {'name': u'Feta cheese'}, {'name': u'pomegranate seeds'}, {'name': u'linguine'}, {'name': u'cloves'}, {'name': u'Korean red pepper paste'}, {'name': u'white or black pepper'}, {'name': u'coconut oil'}, {'name': u'walnuts'}, {'name': u'unbleached all purpose flour'}, {'name': u'cornstarch'}, {'name': u'Nutmeg'}, {'name': u'pequin chiles'}, {'name': u'pine nuts'}, {'name': u'kombu strips'}, {'name': u'Kosher salt'}, {'name': u'Peanut butter'}, {'name': u'tarragon leaves'}, {'name': u'Salt and white or black pepper'}, {'name': u'egg yolk'}, {'name': u'lemon zest'}, {'name': u'White peppercorn'}, {'name': u'Shaoxing wine'}, {'name': u'red chiles'}, {'name': u'vegetable stock'}, {'name': u'orange zest'}, {'name': u'Cooked rice'}, {'name': u'garlic'}, {'name': u'lasagna noodles'}, {'name': u'large garlic cloves'}, {'name': u'miso'}, {'name': u'cheese'}, {'name': u'Asian persimmon'}, {'name': u'black pepper to taste'}, {'name': u'toasted sesame oil'}, {'name': u'urad dal'}, {'name': u'tamari'}, {'name': u'Salt and freshly ground pepper'}, {'name': u'cherry tomatoes'}, {'name': u'broccoli crown'}, {'name': u'spicy Egyptian dukkah'}, {'name': u'scallion'}, {'name': u'pecorino Romano'}, {'name': u'Belgian endive'}, {'name': u'blue cheese'}, {'name': u'spinach'}, {'name': u'provolone'}, {'name': u'1 teaspoon fresh lime juice'}, {'name': u'romano beans'}, {'name': u'almond milk'}, {'name': u'ground beef'}, {'name': u'sour cherries'}, {'name': u'shallot-garlic oil'}, {'name': u'candied ginger'}, {'name': u'hot chicken broth'}, {'name': u'egg noodles'}, {'name': u'banana'}, {'name': u'gochujang'}, {'name': u'whole milk'}, {'name': u'poppy seeds'}, {'name': u'hot paprika'}, {'name': u'shallot'}, {'name': u'Japanese togarashi pepper'}, {'name': u'cider vinegar'}, {'name': u'English peas'}, {'name': u'crumbled queso fresco or feta'}, {'name': u'reposado tequila'}, {'name': u'red pepper flakes'}, {'name': u'Byrrh aperitif'}, {'name': u'green tomato'}, {'name': u'ice cubes'}, {'name': u'beef shank'}, {'name': u'beef chuck'}, {'name': u'shiitake mushrooms'}, {'name': u'red radishes'}, {'name': u'unsweetened cocoa powder'}, {'name': u'apples'}, {'name': u'no-boil lasagna'}, {'name': u'dry mustard powder'}, {'name': u'ground coriander'}, {'name': u'red wine'}, {'name': u'Lime'}, {'name': u'mung bean sprouts'}, {'name': u'mortadella'}, {'name': u'crab meat'}, {'name': u'orange flower water'}, {'name': u'carrots'}, {'name': u'ginger'}, {'name': u'lemon juice'}, {'name': u'extra-bittersweet chocolate'}, {'name': u'seltzer'}, {'name': u'Grand Marnier'}, {'name': u'mint'}, {'name': u'freshly ground pepper to taste'}, {'name': u'Oil'}, {'name': u'red chile'}, {'name': u'maraschino liqueur'}, {'name': u'red pepper'}, {'name': u'Chinese chile peppers'}, {'name': u'dried shrimp or scallops'}, {'name': u'Swiss chard'}, {'name': u'chile flakes'}, {'name': u'white or cremini mushrooms'}, {'name': u'cremini mushrooms'}, {'name': u'tonnarelli'}, {'name': u'zucchini'}, {'name': u'Chocolate nut spread'}, {'name': u'coconut milk'}, {'name': u'Canola oil'}, {'name': u'Lemon twist'}, {'name': u'eggs'}, {'name': u'Vanilla ice cream'}, {'name': u'salmon'}, {'name': u'chopped flat-leaf parsley'}, {'name': u'orange peel'}, {'name': u'superfine chickpea flour'}, {'name': u'mace'}, {'name': u'Parmigiano-Reggiano'}, {'name': u'shallots'}, {'name': u'chile powder'}, {'name': u'watercress'}, {'name': u'chard'}, {'name': u'Sriracha'}, {'name': u'bay scallops'}, {'name': u'pea shoots'}, {'name': u'masa harina'}, {'name': u'corn flour'}, {'name': u'button mushrooms'}, {'name': u'endives'}, {'name': u'sprigs of thyme'}, {'name': u'Asian pear'}, {'name': u'Gruy\\xe8re'}, {'name': u'habanero bitters'}, {'name': u'pineapple'}, {'name': u'apple brandy'}, {'name': u'radicchio'}, {'name': u'turmeric'}, {'name': u'wild striped bass fillets'}, {'name': u'hot pepper oil'}, {'name': u'currants'}, {'name': u'White vinegar'}, {'name': u'green chorizo'}, {'name': u'dried oregano'}, {'name': u'tequila'}, {'name': u'sage'}, {'name': u'chopped chives'}, {'name': u'sesame oil'}, {'name': u'fennel'}, {'name': u'oat flour'}, {'name': u'chicken'}, {'name': u'raicilla'}, {'name': u'dried chilies'}, {'name': u'breadcrumbs'}, {'name': u'sugar'}, {'name': u'celery'}, {'name': u'cashews'}, {'name': u'cumin seeds'}, {'name': u'polenta'}, {'name': u'celery rib'}, {'name': u'bourbon'}, {'name': u'rice'}, {'name': u'plums'}, {'name': u'freekeh'}, {'name': u'salted butter'}, {'name': u'fenugreek seeds'}, {'name': u'daikon radish'}, {'name': u'goat cheese'}, {'name': u'molasses'}, {'name': u'hot green chile'}, {'name': u'cardamom pods'}, {'name': u'smoked salmon'}, {'name': u'English cucumber'}, {'name': u'Gruy\\xe8re cheese'}, {'name': u'red chile flakes'}, {'name': u'Anson Mills'}, {'name': u'fresh thyme'}, {'name': u'cumin'}, {'name': u'bay'}, {'name': u'pork lard'}, {'name': u'semisweet chocolate'}, {'name': u'nutmeg'}, {'name': u'agave nectar'}, {'name': u'collard greens'}, {'name': u'bread crumbs'}, {'name': u'sour cream'}, {'name': u'soaking water from apricots'}, {'name': u'Cilantro'}, {'name': u'lemon extract'}, {'name': u'avocadoes'}, {'name': u'pink peppercorns'}, {'name': u'Chinese five-spice powder'}, {'name': u'king-salmon'}, {'name': u'scallion whites'}, {'name': u'Aleppo pepper'}, {'name': u'Dr. Brown\\u2019s Cel-Ray Soda'}, {'name': u'kimchi'}, {'name': u'chicken breasts'}, {'name': u'cream of tartar'}, {'name': u'white vinegar'}, {'name': u'Old Tom gin'}, {'name': u'flour tortillas'}, {'name': u'Campari'}, {'name': u'cilantro leaves'}, {'name': u'basil leaves'}, {'name': u'white or yellow cornmeal'}, {'name': u'tamarind pulp'}, {'name': u'sweet relish'}, {'name': u'yogurt'}, {'name': u'chocolate hazelnut ice cream'}, {'name': u'bulgur'}, {'name': u'cauliflower'}, {'name': u'Assorted herbs'}, {'name': u'chicken skin'}, {'name': u'cornmeal'}, {'name': u'habanero'}, {'name': u'white wine vinegar'}, {'name': u'plain Greek yogurt'}, {'name': u'sparkling water'}, {'name': u'wheat berries'}, {'name': u'mustard seeds'}, {'name': u'dates'}, {'name': u'orange juice'}, {'name': u'Champagne vinegar'}, {'name': u'extra virgin olive oil'}, {'name': u'fennel seeds'}, {'name': u'cake flour'}, {'name': u'rice noodles'}, {'name': u'eggplant'}, {'name': u'Maldon'}, {'name': u'chorizo'}, {'name': u'Greek-style plain yogurt'}, {'name': u'olive oil'}, {'name': u'raspberry jam'}, {'name': u'bay leaf'}, {'name': u'cooked millet'}, {'name': u'chicken pieces'}, {'name': u'ice water'}, {'name': u'kosher sea salt'}, {'name': u'chicken broth'}, {'name': u'mint leaves'}, {'name': u'wild mushrooms'}, {'name': u'Cocchi Americano'}, {'name': u'oregano'}, {'name': u'corn kernels'}, {'name': u'flat-leaf parsley'}, {'name': u'Mayonnaise'}, {'name': u'scallion stalks'}, {'name': u'Pepper'}, {'name': u'beef'}, {'name': u'sherry vinegar'}, {'name': u'green chiles'}, {'name': u'shiitake'}, {'name': u'roasted mushroom mix'}, {'name': u'parsley'}, {'name': u'roasted mushroom'}, {'name': u'ciabatta'}, {'name': u'buttermilk'}, {'name': u'beer'}, {'name': u'cherries'}, {'name': u'nigella seeds'}, {'name': u'basil'}, {'name': u'Korean red chile paste'}, {'name': u'Canola'}, {'name': u'Ground cumin'}, {'name': u'Red pepper flakes'}, {'name': u'dried pozole'}, {'name': u'Romano beans'}, {'name': u'Thai basil'}, {'name': u'cream cheese'}, {'name': u'ghee'}, {'name': u'dark rye flour'}, {'name': u'wild rice'}, {'name': u'Extra-virgin olive oil'}, {'name': u'peppercorns'}, {'name': u'chile'}, {'name': u'poblano chile'}, {'name': u'yellow-fleshed potatoes'}, {'name': u'star anise'}, {'name': u'egg yolks'}, {'name': u'\\xc9lixir Combier'}, {'name': u'vanilla'}, {'name': u'sugar snap peas'}, {'name': u'flaked coconut'}, {'name': u'thyme leaves'}, {'name': u'Nonstick cooking spray'}, {'name': u'red onions'}, {'name': u'Peychaud\\u2019s bitters'}, {'name': u'short-grain rice'}, {'name': u'hot sauce'}, {'name': u'sriracha'}, {'name': u'basmati rice'}, {'name': u'Kosher salt and freshly ground black pepper'}, {'name': u'chervil'}, {'name': u'squid'}, {'name': u'apple cider vinegar'}, {'name': u'chicken thighs and drumsticks'}, {'name': u'guajillo chile'}, {'name': u'dukkah'}, {'name': u'yellow onion'}, {'name': u'espresso beans'}, {'name': u'Serrano chiles'}, {'name': u'neutral oil'}, {'name': u'dry vermouth'}, {'name': u'rice vinegar'}, {'name': u'serrano chile'}, {'name': u'Salt and ground black pepper'}, {'name': u'baking powder'}, {'name': u'white Cheddar'}, {'name': u'extra-virgin olive oil'}, {'name': u'ground cinnamon'}, {'name': u'chocolate chips'}, {'name': u'small onion'}, {'name': u'ricotta'}, {'name': u'tomatoes'}, {'name': u'Greek-style yogurt'}, {'name': u'sesame breadsticks'}, {'name': u'lemon peel'}, {'name': u'ricotta cheese'}, {'name': u'pomegranate'}, {'name': u'mint simple syrup'}, {'name': u'Tonic water'}, {'name': u'chopped tomatoes'}, {'name': u'cucumber'}, {'name': u'sweet vermouth'}, {'name': u'tuna'}, {'name': u'broccoli'}, {'name': u'butter'}, {'name': u'cocoa butter'}, {'name': u'bell pepper'}, {'name': u'spaghetti squash'}, {'name': u'Greek yogurt'}, {'name': u'Chinese rice wine'}, {'name': u'sumac'}, {'name': u'enoki mushrooms'}, {'name': u'chickpea flour'}, {'name': u'udon'}, {'name': u'red quinoa'}, {'name': u'Salt to taste'}, {'name': u'peanut butter'}, {'name': u'bread flour'}, {'name': u'salmon fillet'}, {'name': u'Green Pipian'}, {'name': u'Scotch bonnet'}, {'name': u'bananas'}, {'name': u'cheddar'}, {'name': u'carrot juice'}, {'name': u'English-pea-pod juice'}, {'name': u'fresh dill or parsley'}, {'name': u'Vienna sausages'}, {'name': u'saffron'}, {'name': u'tapioca starch'}, {'name': u'Calvados'}, {'name': u'bittersweet chocolate sauce'}, {'name': u'Soft Anson Mills Polenta'}, {'name': u'cilantro'}, {'name': u'vanilla, chocolate or other ice cream'}, {'name': u'Roasted poblano chile strips'}, {'name': u'raw honey'}, {'name': u'cayenne'}, {'name': u'pecorino cheese'}, {'name': u'Black pepper'}, {'name': u'Flaky sea salt'}, {'name': u'monkfish tail'}, {'name': u'Curtido'}, {'name': u'low-fat milk'}, {'name': u'jalape\\xf1o chile'}, {'name': u'chives'}, {'name': u'anchovy'}, {'name': u'Cheddar cheese'}, {'name': u'chipotle chili powder'}, {'name': u'rose petals'}, {'name': u'lettuce leaves'}, {'name': u'black-eyed peas'}, {'name': u'plum tomatoes'}, {'name': u'halloumi'}, {'name': u'white sugar'}, {'name': u'freshly ground cardamom seeds'}, {'name': u'romaine lettuce'}, {'name': u'coriander seeds'}, {'name': u'allspice berries'}, {'name': u'chopped parsley'}, {'name': u'maple syrup'}, {'name': u'red wine vinegar'}, {'name': u'cr\\xe8me de cassis liqueur'}, {'name': u'onion'}, {'name': u'fine sea salt'}, {'name': u'Red-chile flakes'}, {'name': u'oysters'}, {'name': u'small shallot'}, {'name': u'spring onions'}, {'name': u'soft-shell crabs'}, {'name': u'pastry shell'}, {'name': u'black peppercorns'}, {'name': u'gray sea salt'}, {'name': u'dried apricots'}, {'name': u'ground veal'}, {'name': u'Poached rhubarb'}, {'name': u'fettuccine'}, {'name': u'fresh bread crumbs'}, {'name': u'almonds'}, {'name': u'pink sea salt'}, {'name': u'Champagne'}, {'name': u'tomato pur\\xe9e'}, {'name': u'salt cod fillets'}, {'name': u'fresh herbs'}, {'name': u'okra'}, {'name': u'beef stock'}, {'name': u'baking soda'}, {'name': u'freshly grated Parmesan'}, {'name': u'yellow tomatoes'}, {'name': u'ground pork'}, {'name': u'chopped walnuts'}, {'name': u'Potato rolls'}, {'name': u'shelling beans'}, {'name': u'asafetida'}, {'name': u'corn tortillas'}, {'name': u'herbes de Provence'}, {'name': u'pepper'}, {'name': u'Edam cheese'}, {'name': u'cynar'}, {'name': u'rum'}, {'name': u'thyme syrup'}, {'name': u'corn'}, {'name': u'mango chutney'}, {'name': u'peas'}, {'name': u'yuzu juice'}, {'name': u'pasta'}, {'name': u'ground pepper'}, {'name': u'Soy sauce'}, {'name': u'medjool dates'}, {'name': u'pattypan squash or other summer squash'}, {'name': u'Olive oil'}, {'name': u'blood orange juice'}, {'name': u'canola oil'}, {'name': u'sushi grade or ahi tuna'}, {'name': u'jalape\\xf1o chiles'}, {'name': u'Marinara Sauce'}, {'name': u'salted black bean paste'}, {'name': u'shrimp'}, {'name': u'rice flour'}, {'name': u'Lemon juice'}, {'name': u'beans'}, {'name': u'sweet peppers'}, {'name': u'brown rice'}, {'name': u'simple syrup'}, {'name': u'curry'}, {'name': u'black raspberry extract'}, {'name': u'spring onion'}, {'name': u'unsweetened cocoa'}, {'name': u'red onion'}, {'name': u'tofu'}, {'name': u'round dumpling wrappers'}, {'name': u'mushrooms'}, {'name': u'celeriac'}, {'name': u'brown sugar'}, {'name': u'jalape\\xf1o pepper'}, {'name': u'dill sprigs'}, {'name': u'broccoli rabe'}, {'name': u'shortening'}, {'name': u'leeks'}, {'name': u'half-and-half'}, {'name': u'allspice'}, {'name': u'Korean anchovy sauce'}, {'name': u'egusi'}, {'name': u'whole wheat flour'}, {'name': u'Rock salt'}, {'name': u'crumbled feta'}, {'name': u'hard cider'}, {'name': u'all-purpose flour'}, {'name': u'dry white wine'}, {'name': u'Scotch'}, {'name': u'sweet onion'}, {'name': u'avocados'}, {'name': u'corn syrup'}, {'name': u'black rice'}, {'name': u'white onion'}, {'name': u'Freshly ground pepper'}, {'name': u'raisins'}, {'name': u'cardoon'}, {'name': u'Lobster butter'}, {'name': u'strawberries'}, {'name': u'smoked ham'}, {'name': u'baby spinach'}, {'name': u'agave syrup'}, {'name': u'beet greens'}, {'name': u'tomatillos'}, {'name': u'green garlic'}, {'name': u'baby arugula'}, {'name': u'king trumpet mushrooms'}, {'name': u'French ham'}, {'name': u'dried pasta'}, {'name': u'tempeh'}, {'name': u'soju'}, {'name': u'olives'}, {'name': u'Fennel fronds'}, {'name': u'paprika'}, {'name': u'anchovies'}, {'name': u'dark cocoa powder'}, {'name': u'black olives'}, {'name': u'hoisin sauce'}, {'name': u'ground cumin'}, {'name': u'dill'}, {'name': u'unsalted cashews'}, {'name': u'grapeseed oil'}, {'name': u'English cucumbers'}, {'name': u'crispy shallots'}, {'name': u'egg whites'}, {'name': u'white port'}, {'name': u'roasted pistachio oil'}, {'name': u'papaya pur\\xe9e'}, {'name': u'sea scallops'}, {'name': u'MSG'}, {'name': u'bone-in rib-eye'}, {'name': u'Asian dried shrimp'}, {'name': u'fresh lemon juice'}, {'name': u'cream'}, {'name': u'Angostura bitters'}, {'name': u'baguette'}, {'name': u'Pikliz'}, {'name': u'lemon'}, {'name': u'coarse cornmeal'}, {'name': u'hazelnuts'}, {'name': u'sweet paprika'}, {'name': u'green cardamom pods'}, {'name': u'medium onions'}, {'name': u'Rice wine vinegar'}, {'name': u'tomato sauce'}, {'name': u'garlic cloves'}, {'name': u'curry powder'}, {'name': u'ground lamb'}, {'name': u'mayonnaise'}, {'name': u'lime juice'}, {'name': u'spring or filtered water'}, {'name': u'mustard'}, {'name': u'tangerine'}, {'name': u'fennel fronds'}, {'name': u'ground allspice'}, {'name': u'rice wine vinegar'}, {'name': u'shredded coconut'}, {'name': u'cloves garlic'}, {'name': u'capers'}, {'name': u'chocolate'}, {'name': u'Rittenhouse 100-proof rye'}, {'name': u'radishes'}, {'name': u'potato'}, {'name': u'Romesco Sauce'}, {'name': u'salt'}, {'name': u'chopped fresh mint'}, {'name': u'rib-eye steak'}, {'name': u'spring water'}, {'name': u'soy sauce'}, {'name': u'sesame seeds'}, {'name': u'black beans'}, {'name': u'tamarind-garlic dressing'}, {'name': u'palm oil'}, {'name': u'preserved lemon'}, {'name': u'hot water'}]\n"
     ]
    }
   ],
   "source": [
    "unique_ingredients = list(set([i['name'] for d in data for i in d['ingredients']]))\n",
    "ingredients = [{'name':i} for i in unique_ingredients]\n",
    "print ingredients"
   ]
  },
  {
   "cell_type": "code",
   "execution_count": 40,
   "metadata": {
    "collapsed": false
   },
   "outputs": [
    {
     "name": "stdout",
     "output_type": "stream",
     "text": [
      "979 [{u'name': u'Bok Choy'}, {u'name': u'Oyster Sauce'}, {u'name': u'Beef'}, {u'name': u'Orange'}, {u'name': u'Scallion'}, {u'name': u'Chinese'}, {u'name': u'Asian'}, {u'name': u'Baguette'}, {u'name': u'Mussel'}, {u'name': u'French'}]\n",
      "841\n"
     ]
    }
   ],
   "source": [
    "categories = [ t for d in data for t in d['tags']]\n",
    "print len(categories), categories[:10]\n",
    "unique_categories = list(set([ t['name'] for d in data for t in d['tags']]))\n",
    "categories = [{'name':i} for i in unique_ingredients]\n",
    "print len(categories)"
   ]
  },
  {
   "cell_type": "code",
   "execution_count": null,
   "metadata": {
    "collapsed": true
   },
   "outputs": [],
   "source": []
  }
 ],
 "metadata": {
  "kernelspec": {
   "display_name": "Python 2",
   "language": "python",
   "name": "python2"
  },
  "language_info": {
   "codemirror_mode": {
    "name": "ipython",
    "version": 2
   },
   "file_extension": ".py",
   "mimetype": "text/x-python",
   "name": "python",
   "nbconvert_exporter": "python",
   "pygments_lexer": "ipython2",
   "version": "2.7.6"
  }
 },
 "nbformat": 4,
 "nbformat_minor": 0
}
